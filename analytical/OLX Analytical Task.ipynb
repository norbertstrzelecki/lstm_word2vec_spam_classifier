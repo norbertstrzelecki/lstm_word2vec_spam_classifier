{
 "cells": [
  {
   "cell_type": "markdown",
   "metadata": {},
   "source": [
    "# Analytical Task <a class='tocSkip'>"
   ]
  },
  {
   "cell_type": "markdown",
   "metadata": {},
   "source": [
    "The table contains sample data from declarative surveys on jobs and employment for a specific group of people. The data is anonymous and covers current and expected incomes as well as commuting preferences. The data is not perfect and contains a bit of noise.\n",
    "\n",
    "**Your task is to analyze the data and find the answers to three following questions:**\n",
    "\n",
    "1. What is the distribution of the expected net income in relation to the current net income (charts + conclusions)?\n",
    "\n",
    "2. What is the correlation between the desire to earn more and the possibility to commute longer (further away from home).\n",
    "\n",
    "3. What is the key factor that determines the tendency to move closer to the work place (what is the most relevant factor influencing the will to move home closer work)?\n"
   ]
  },
  {
   "cell_type": "code",
   "execution_count": null,
   "metadata": {},
   "outputs": [],
   "source": [
    "import numpy as np\n",
    "import pandas as pd\n",
    "import matplotlib.pyplot as plt\n",
    "import seaborn as sns; sns.set()\n",
    "\n",
    "# Feature importance seaerch libraries\n",
    "from sklearn.model_selection import train_test_split\n",
    "from sklearn.ensemble import ExtraTreesClassifier\n",
    "from sklearn.ensemble import RandomForestClassifier\n",
    "from sklearn.metrics import classification_report\n",
    "\n",
    "# Statistical tests\n",
    "from scipy import stats"
   ]
  },
  {
   "cell_type": "code",
   "execution_count": null,
   "metadata": {},
   "outputs": [],
   "source": [
    "# Loading data\n",
    "df_raw = pd.read_excel('data/dataset.xlsx')"
   ]
  },
  {
   "cell_type": "code",
   "execution_count": null,
   "metadata": {},
   "outputs": [],
   "source": [
    "# Quick look at data\n",
    "df_raw.head(3)"
   ]
  },
  {
   "cell_type": "code",
   "execution_count": null,
   "metadata": {},
   "outputs": [],
   "source": [
    "# Sorting rows by 'id'\n",
    "df_raw.sort_values('id', ascending=True, inplace=True)\n",
    "df_raw.reset_index(drop=True, inplace=True)\n",
    "df_raw.head(3)"
   ]
  },
  {
   "cell_type": "code",
   "execution_count": null,
   "metadata": {},
   "outputs": [],
   "source": [
    "# Setting proper column order, because they are mixed\n",
    "living_distance_ix = df_raw.columns[df_raw.columns.str.contains('live')]\n",
    "# df_raw[living_distance_ix].head(2)\n",
    "\n",
    "commute_ix = df_raw.columns[df_raw.columns.str.contains('commute')]\n",
    "# df_raw[commute_ix].head(2)\n",
    "\n",
    "salary_ix = df_raw.columns[df_raw.columns.str.contains('salary')]\n",
    "# df_raw[salary_ix].head(2)\n",
    "\n",
    "get_ix = df_raw.columns[df_raw.columns.str.contains('get')]\n",
    "# df_raw[get_ix].head(2)\n",
    "\n",
    "# df_raw.iloc[:,:3].head(2)\n",
    "# df_raw.iloc[:,-6:].head(2)"
   ]
  },
  {
   "cell_type": "code",
   "execution_count": null,
   "metadata": {},
   "outputs": [],
   "source": [
    "df_raw.shape"
   ]
  },
  {
   "cell_type": "code",
   "execution_count": null,
   "metadata": {},
   "outputs": [],
   "source": [
    "# New sorted dataframe\n",
    "df = pd.concat([df_raw.iloc[:,:3],\n",
    "               df_raw[living_distance_ix],\n",
    "               df_raw[commute_ix],\n",
    "               df_raw[salary_ix],\n",
    "               df_raw[get_ix],\n",
    "               df_raw.iloc[:,-6:]], axis=1)"
   ]
  },
  {
   "cell_type": "code",
   "execution_count": null,
   "metadata": {},
   "outputs": [],
   "source": [
    "df.shape"
   ]
  },
  {
   "cell_type": "code",
   "execution_count": null,
   "metadata": {},
   "outputs": [],
   "source": [
    "df.head(2)"
   ]
  },
  {
   "cell_type": "markdown",
   "metadata": {},
   "source": [
    "Checking missing data distibution"
   ]
  },
  {
   "cell_type": "code",
   "execution_count": null,
   "metadata": {},
   "outputs": [],
   "source": [
    "df_isnull = pd.DataFrame(df.isnull().sum())\n",
    "df_isnull.reset_index(inplace=True)\n",
    "df_isnull.columns = ['question','count']"
   ]
  },
  {
   "cell_type": "code",
   "execution_count": null,
   "metadata": {},
   "outputs": [],
   "source": [
    "plt.figure(figsize=(8, 10))\n",
    "sns.barplot(y='question', x='count', data=df_isnull, palette='icefire_r')\n",
    "plt.xticks(rotation=90)\n",
    "plt.title('Missing values');"
   ]
  },
  {
   "cell_type": "code",
   "execution_count": null,
   "metadata": {},
   "outputs": [],
   "source": [
    "# First-glance statistics\n",
    "df.describe(exclude='number')"
   ]
  },
  {
   "cell_type": "markdown",
   "metadata": {},
   "source": [
    "# What is the distribution of the expected net income in relation to the current net income (charts + conclusions)?"
   ]
  },
  {
   "cell_type": "markdown",
   "metadata": {},
   "source": [
    "<br><br><br>\n",
    "**Conclusions:**<br><br>\n",
    "\n",
    "* Most of the survey participants earn up to 1000 EUR per month. \n",
    "* Most of survey participants would like to earn between 2000 and 3000 EUR, but the runners-up got little bit lower expectations of 1000 to 1500 EUR. \n",
    "* Very few responders earn and would like to earn more than 6000 EUR.\n",
    "\n",
    "**Note:**\n",
    "\n",
    "\n",
    "\n",
    "<br><br><br><br>"
   ]
  },
  {
   "cell_type": "markdown",
   "metadata": {},
   "source": [
    "### Checking not-answered and multi-answered questions and ploting overall results"
   ]
  },
  {
   "cell_type": "code",
   "execution_count": null,
   "metadata": {},
   "outputs": [],
   "source": [
    "# Helper function\n",
    "\n",
    "def valid_answers_plot(group, plot_title):\n",
    "    \n",
    "    \n",
    "    # Dropping useless observations because I cannot be sure of them\n",
    "    group_inc = group[group.notnull().sum(axis=1) == 1]\n",
    "    \n",
    "    # Printing information about invalid entries\n",
    "    print('Number of not-answered and multi-answered questions: {} of {}. \\n \\\n",
    "           Ploting only valid {} entries'\\\n",
    "          .format(group[group.notnull().sum(axis=1) != 1].shape[0], group.shape[0],\n",
    "                  group_inc.describe().T['count'].sum())) \n",
    "\n",
    "    # Ploting overall result\n",
    "    plt.figure(figsize=(12,2))\n",
    "    sns.barplot(x='count', y='index', data=group_inc.describe().T.reset_index(), palette='Set2')\n",
    "    labels = group_inc.describe().T.reset_index()['index'].str.split('-', 1, expand=True)[1].values\n",
    "    plt.yticks(rotation=0, ticks= range(len(labels)), labels=labels)\n",
    "    plt.ylabel('Range')\n",
    "    plt.xlabel('Frequency')\n",
    "    plt.title(plot_title)\n",
    "    plt.show()"
   ]
  },
  {
   "cell_type": "code",
   "execution_count": null,
   "metadata": {},
   "outputs": [],
   "source": [
    "curr_double_answers_check = df.loc[:,'What is your current or previous monthly net salary - up to 1000 EUR':'What is your current or previous monthly net salary - refuse to answer']"
   ]
  },
  {
   "cell_type": "code",
   "execution_count": null,
   "metadata": {},
   "outputs": [],
   "source": [
    "# Current or previous monthly net salary question\n",
    "valid_answers_plot(curr_double_answers_check, 'Current or previous monthly salary distribution')\n",
    "print('Sample invalid data')\n",
    "curr_double_answers_check[curr_double_answers_check.notnull().sum(axis=1) != 1].head(2)"
   ]
  },
  {
   "cell_type": "markdown",
   "metadata": {},
   "source": [
    "<br><br>\n",
    "Most of the survey participants earn up to 1000 EUR per month.\n",
    "<br><br><br>"
   ]
  },
  {
   "cell_type": "code",
   "execution_count": null,
   "metadata": {},
   "outputs": [],
   "source": [
    "exp_double_answers_check = df.loc[:,'How much would you like to get monthly - up to 1000 EUR':'How much would you like to get monthly - refuse to answer']"
   ]
  },
  {
   "cell_type": "code",
   "execution_count": null,
   "metadata": {},
   "outputs": [],
   "source": [
    "# Expected net monthly income\n",
    "valid_answers_plot(exp_double_answers_check, 'Expected monthly income')\n",
    "print('Sample invalid data')\n",
    "exp_double_answers_check[exp_double_answers_check.notnull().sum(axis=1) != 1].head(2)"
   ]
  },
  {
   "cell_type": "markdown",
   "metadata": {},
   "source": [
    "<br><br>\n",
    "Most of survey participants would like to earn between 2000 and 3000 EUR, but there are many with little bit lower expectations of 1000 to 1500 EUR.\n",
    "<br><br><br>"
   ]
  },
  {
   "cell_type": "markdown",
   "metadata": {},
   "source": [
    "### Creating valid salary-themed dataframe without invalid answers"
   ]
  },
  {
   "cell_type": "code",
   "execution_count": null,
   "metadata": {
    "scrolled": true
   },
   "outputs": [],
   "source": [
    "curr_inc = curr_double_answers_check[curr_double_answers_check.notnull().sum(axis=1) == 1]\n",
    "exp_inc = exp_double_answers_check[exp_double_answers_check.notnull().sum(axis=1) == 1]"
   ]
  },
  {
   "cell_type": "code",
   "execution_count": null,
   "metadata": {
    "scrolled": false
   },
   "outputs": [],
   "source": [
    "df_income = pd.concat([curr_inc, exp_inc], axis=1)\n",
    "df_income = df_income[df_income.notnull().sum(axis=1) == 2]\n",
    "df_income.head(2)"
   ]
  },
  {
   "cell_type": "markdown",
   "metadata": {},
   "source": [
    "**Let's check which group wants to earn what amount of money**"
   ]
  },
  {
   "cell_type": "code",
   "execution_count": null,
   "metadata": {
    "scrolled": false
   },
   "outputs": [],
   "source": [
    "# Creating separate income groups\n",
    "g1 = df_income[df_income['What is your current or previous monthly net salary - up to 1000 EUR'].notnull()].describe().T\n",
    "g2 = df_income[df_income['What is your current or previous monthly net salary - 1001 - 1500 EUR'].notnull()].describe().T\n",
    "g3 = df_income[df_income['What is your current or previous monthly net salary - 2001 - 3000 EUR'].notnull()].describe().T\n",
    "g4 = df_income[df_income['What is your current or previous monthly net salary - 3001 - 4000 EUR'].notnull()].describe().T\n",
    "g5 = df_income[df_income['What is your current or previous monthly net salary - 4001 - 5000 EUR'].notnull()].describe().T\n",
    "g6 = df_income[df_income['What is your current or previous monthly net salary - 5001 - 6000 EUR'].notnull()].describe().T\n",
    "g7 = df_income[df_income['What is your current or previous monthly net salary - more than 6000 EUR'].notnull()].describe().T\n",
    "g8 = df_income[df_income['What is your current or previous monthly net salary - refuse to answer'].notnull()].describe().T"
   ]
  },
  {
   "cell_type": "code",
   "execution_count": null,
   "metadata": {},
   "outputs": [],
   "source": [
    "# Helper function \n",
    "\n",
    "def expected_income_plot(group, column):\n",
    "    \n",
    "    plt.figure(figsize=(12,2))\n",
    "    sns.barplot(x='count', y='index', data=group.loc['How much would you like to get monthly - up to 1000 EUR':,:]\\\n",
    "                .reset_index(), palette='Set2')\n",
    "    labels = group.loc['How much would you like to get monthly - up to 1000 EUR':,:]\\\n",
    "                .reset_index()['index'].str.split('-', 1, expand=True)[1].values\n",
    "    plt.yticks(rotation=0, ticks= range(len(labels)), labels=labels)\n",
    "    plt.ylabel('Range')\n",
    "    plt.xlabel('Frequency')\n",
    "    plt.title('Earning currently {}, how much would you like to get?'.format(column.split('-',1)[1]))\n",
    "    plt.show()"
   ]
  },
  {
   "cell_type": "markdown",
   "metadata": {},
   "source": [
    "### Distribution of particular income groups and they expectations"
   ]
  },
  {
   "cell_type": "code",
   "execution_count": null,
   "metadata": {
    "scrolled": false
   },
   "outputs": [],
   "source": [
    "# Creating group list\n",
    "g_list = [g1,g2,g3,g4,g5,g6,g7,g8]\n",
    "col_list = np.array(df_income.columns[8:])\n",
    "\n",
    "# Ploting results\n",
    "for i in range(len(g_list)):\n",
    "    expected_income_plot(g_list[i], col_list[i])"
   ]
  },
  {
   "cell_type": "markdown",
   "metadata": {},
   "source": [
    "### Creating separated income-level groups"
   ]
  },
  {
   "cell_type": "code",
   "execution_count": null,
   "metadata": {},
   "outputs": [],
   "source": [
    "# Creating group indexes\n",
    "u1_ix = df_income[df_income['What is your current or previous monthly net salary - up to 1000 EUR'].notnull()].index\n",
    "u2_ix = df_income[df_income['What is your current or previous monthly net salary - 1001 - 1500 EUR'].notnull()].index\n",
    "u3_ix = df_income[df_income['What is your current or previous monthly net salary - 2001 - 3000 EUR'].notnull()].index\n",
    "u4_ix = df_income[df_income['What is your current or previous monthly net salary - 3001 - 4000 EUR'].notnull()].index\n",
    "u5_ix = df_income[df_income['What is your current or previous monthly net salary - 4001 - 5000 EUR'].notnull()].index\n",
    "u6_ix = df_income[df_income['What is your current or previous monthly net salary - 5001 - 6000 EUR'].notnull()].index\n",
    "u7_ix = df_income[df_income['What is your current or previous monthly net salary - more than 6000 EUR'].notnull()].index\n",
    "u8_ix = df_income[df_income['What is your current or previous monthly net salary - refuse to answer'].notnull()].index"
   ]
  },
  {
   "cell_type": "code",
   "execution_count": null,
   "metadata": {},
   "outputs": [],
   "source": [
    "# Creating groups\n",
    "# Earning up to 1000 EUR\n",
    "u1 = df[df.index.isin(u1_ix)]\n",
    "# Earning between 1001-1500 EUR\n",
    "u2 = df[df.index.isin(u2_ix)]\n",
    "# ... and so on\n",
    "u3 = df[df.index.isin(u3_ix)]\n",
    "u4 = df[df.index.isin(u4_ix)]\n",
    "u5 = df[df.index.isin(u5_ix)]\n",
    "u6 = df[df.index.isin(u6_ix)]\n",
    "u7 = df[df.index.isin(u7_ix)]\n",
    "u8 = df[df.index.isin(u8_ix)]"
   ]
  },
  {
   "cell_type": "code",
   "execution_count": null,
   "metadata": {
    "scrolled": false
   },
   "outputs": [],
   "source": [
    "# Helper function\n",
    "\n",
    "def income_group_plot(group):\n",
    "    \n",
    "    \n",
    "    sns.countplot(group['D2# Gender'], palette='Set2')\n",
    "    plt.title('')\n",
    "    plt.show()\n",
    "\n",
    "    order = ['yes','no']\n",
    "    sns.countplot(x='Are you looking for a job?', hue='D2# Gender', data=group, order=order, palette='Set2')\n",
    "    plt.show()\n",
    "    \n",
    "    order = ['yes','no']\n",
    "    sns.countplot(x='Q13-C22 - Do you work currently? - Answer', hue='D2# Gender', data=group, order=order, palette='Set2')\n",
    "    plt.show()\n",
    "    \n",
    "    order = ['yes','no']\n",
    "    sns.countplot(x='Have you ever worked before?', hue='D2# Gender', data=group, order=order, palette='Set2')\n",
    "    plt.show()\n",
    "\n",
    "    order = ['yes','no']\n",
    "    sns.countplot(x='Are you keen on moving closer to your work place?', hue='D2# Gender', data=group, order=order, palette='Set2')\n",
    "    plt.show()\n",
    "\n",
    "    plt.figure(figsize=(20,4))\n",
    "    order = ['village','city up to 20k inhabitants','20k - 49k inhabitants','50k - 99k inhabitants',\n",
    "                  '100k - 199k inhabitants','200k - 500k inhabitants','more than 500k inhabitants']\n",
    "    sns.countplot(x='D1# City size', hue='D2# Gender', data=group, order=order, palette='Set2')\n",
    "    plt.show()\n",
    "\n",
    "    plt.figure(figsize=(20,4))\n",
    "    order = ['less than 18 years','18 - 24 years','25 - 30 years','31 - 40 years','41 - 50 years','more than 50 years']\n",
    "    sns.countplot(x='D3# Age', hue='D2# Gender', data=group, order=order, palette='Set2')\n",
    "    plt.show()\n",
    "\n",
    "    plt.figure(figsize=(20,4))\n",
    "    order = ['basic','vocational','secondary', 'higher']\n",
    "    sns.countplot(x='D4# Education', hue='D2# Gender', data=group, order=order, palette='Set2')\n",
    "    plt.show()"
   ]
  },
  {
   "cell_type": "markdown",
   "metadata": {},
   "source": [
    "## Selecting `gender` as a differentiating variable between groups\n",
    "\n",
    "But the defferentiating variable could be city size, commute distance etc."
   ]
  },
  {
   "cell_type": "markdown",
   "metadata": {},
   "source": [
    "### Earning up to 1000 EUR"
   ]
  },
  {
   "cell_type": "code",
   "execution_count": null,
   "metadata": {},
   "outputs": [],
   "source": [
    "# Helper function to differentiate income needs by gender\n",
    "\n",
    "def income_needs_by_gender(main_group):\n",
    "    \n",
    "    # Selecting groups by gender\n",
    "    female_group = main_group[main_group['D2# Gender'] == 'female'].describe(exclude='number').loc[:,'How much would you like to get monthly - up to 1000 EUR':'How much would you like to get monthly - refuse to answer':].T\n",
    "    male_group = main_group[main_group['D2# Gender'] == 'male'].describe(exclude='number').loc[:,'How much would you like to get monthly - up to 1000 EUR':'How much would you like to get monthly - refuse to answer':].T\n",
    "    \n",
    "    i = 0\n",
    "    for group in [female_group, male_group]:\n",
    "        plt.figure(figsize=(12,2))\n",
    "        sns.barplot(x='count', y='index', data=group.reset_index(),\n",
    "                palette='Set2')\n",
    "        labels = g1.loc['How much would you like to get monthly - up to 1000 EUR':,:]\\\n",
    "                    .reset_index()['index'].str.split('-', 1, expand=True)[1].values\n",
    "        plt.yticks(rotation=0, ticks= range(len(labels)), labels=labels)\n",
    "        plt.ylabel('Range')\n",
    "        plt.xlabel('Frequency')\n",
    "        plt.title('Female group income expectations') if i == 0 else plt.title('Male group income expectations')            \n",
    "        plt.show()\n",
    "        i += 1"
   ]
  },
  {
   "cell_type": "code",
   "execution_count": null,
   "metadata": {},
   "outputs": [],
   "source": [
    "income_group_plot(u1)"
   ]
  },
  {
   "cell_type": "code",
   "execution_count": null,
   "metadata": {},
   "outputs": [],
   "source": [
    "income_needs_by_gender(u1)"
   ]
  },
  {
   "cell_type": "code",
   "execution_count": null,
   "metadata": {},
   "outputs": [],
   "source": [
    "# How far do they live from work\n",
    "# u1.describe(exclude='number').loc[:,'How far do you live from current or previous work - less than 5 km':'How far do you live from current or previous work - more than 100 km'].T"
   ]
  },
  {
   "cell_type": "code",
   "execution_count": null,
   "metadata": {},
   "outputs": [],
   "source": [
    "# How far are they able to commute?\n",
    "# u1.describe(exclude='number').loc[:,'How far are you able to commute - less than 5 km':'How far are you able to commute - more than 100 km'].T"
   ]
  },
  {
   "cell_type": "markdown",
   "metadata": {},
   "source": [
    "### Earning 1001-1500 EUR"
   ]
  },
  {
   "cell_type": "code",
   "execution_count": null,
   "metadata": {},
   "outputs": [],
   "source": [
    "income_group_plot(u2)"
   ]
  },
  {
   "cell_type": "code",
   "execution_count": null,
   "metadata": {},
   "outputs": [],
   "source": [
    "income_needs_by_gender(u2)"
   ]
  },
  {
   "cell_type": "markdown",
   "metadata": {},
   "source": [
    "### Earning 2001-3000 EUR"
   ]
  },
  {
   "cell_type": "code",
   "execution_count": null,
   "metadata": {},
   "outputs": [],
   "source": [
    "income_group_plot(u3)"
   ]
  },
  {
   "cell_type": "code",
   "execution_count": null,
   "metadata": {},
   "outputs": [],
   "source": [
    "income_needs_by_gender(u3)"
   ]
  },
  {
   "cell_type": "markdown",
   "metadata": {},
   "source": [
    "### Earning 3001-4000 EUR"
   ]
  },
  {
   "cell_type": "code",
   "execution_count": null,
   "metadata": {},
   "outputs": [],
   "source": [
    "income_group_plot(u4)"
   ]
  },
  {
   "cell_type": "code",
   "execution_count": null,
   "metadata": {},
   "outputs": [],
   "source": [
    "income_needs_by_gender(u4)"
   ]
  },
  {
   "cell_type": "markdown",
   "metadata": {},
   "source": [
    "### Earning 4001-5000 EUR"
   ]
  },
  {
   "cell_type": "code",
   "execution_count": null,
   "metadata": {},
   "outputs": [],
   "source": [
    "income_group_plot(u5)"
   ]
  },
  {
   "cell_type": "code",
   "execution_count": null,
   "metadata": {},
   "outputs": [],
   "source": [
    "income_needs_by_gender(u5)"
   ]
  },
  {
   "cell_type": "markdown",
   "metadata": {},
   "source": [
    "### Earning 5001-6000 EUR"
   ]
  },
  {
   "cell_type": "code",
   "execution_count": null,
   "metadata": {},
   "outputs": [],
   "source": [
    "income_group_plot(u6)"
   ]
  },
  {
   "cell_type": "code",
   "execution_count": null,
   "metadata": {},
   "outputs": [],
   "source": [
    "income_needs_by_gender(u6)"
   ]
  },
  {
   "cell_type": "markdown",
   "metadata": {},
   "source": [
    "### Earning over 6000 EUR"
   ]
  },
  {
   "cell_type": "code",
   "execution_count": null,
   "metadata": {},
   "outputs": [],
   "source": [
    "income_group_plot(u7)"
   ]
  },
  {
   "cell_type": "code",
   "execution_count": null,
   "metadata": {},
   "outputs": [],
   "source": [
    "income_needs_by_gender(u7)"
   ]
  },
  {
   "cell_type": "markdown",
   "metadata": {},
   "source": [
    "### Refused to answer how much do they earn currently"
   ]
  },
  {
   "cell_type": "code",
   "execution_count": null,
   "metadata": {},
   "outputs": [],
   "source": [
    "income_group_plot(u8)"
   ]
  },
  {
   "cell_type": "code",
   "execution_count": null,
   "metadata": {},
   "outputs": [],
   "source": [
    "income_needs_by_gender(u8)"
   ]
  },
  {
   "cell_type": "markdown",
   "metadata": {},
   "source": [
    "### Another solution to overall income and expectiations results divided by gender"
   ]
  },
  {
   "cell_type": "code",
   "execution_count": null,
   "metadata": {},
   "outputs": [],
   "source": [
    "# Merging df_income dataframe into two columns\n",
    "\n",
    "# Replacing values to some meaningfull ones in current income columns\n",
    "df_income.iloc[:,0] = df_income.iloc[:,0].where(df_income.iloc[:,0].isnull(), 'up1000')\n",
    "df_income.iloc[:,1] = df_income.iloc[:,1].where(df_income.iloc[:,1].isnull(), '1001-1500')\n",
    "df_income.iloc[:,2] = df_income.iloc[:,2].where(df_income.iloc[:,2].isnull(), '2001-3000')\n",
    "df_income.iloc[:,3] = df_income.iloc[:,3].where(df_income.iloc[:,3].isnull(), '3001-4000')\n",
    "df_income.iloc[:,4] = df_income.iloc[:,4].where(df_income.iloc[:,4].isnull(), '4001-5000')\n",
    "df_income.iloc[:,5] = df_income.iloc[:,5].where(df_income.iloc[:,5].isnull(), '5001-6000')\n",
    "df_income.iloc[:,6] = df_income.iloc[:,6].where(df_income.iloc[:,6].isnull(), 'ovr6000')\n",
    "df_income.iloc[:,7] = df_income.iloc[:,7].where(df_income.iloc[:,7].isnull(), 'refuse answ')\n",
    "# Replacing values to some meaningfull ones in expected income columns\n",
    "df_income.iloc[:,8] = df_income.iloc[:,8].where(df_income.iloc[:,8].isnull(), 'up1000')\n",
    "df_income.iloc[:,9] = df_income.iloc[:,9].where(df_income.iloc[:,9].isnull(), '1001-1500')\n",
    "df_income.iloc[:,10] = df_income.iloc[:,10].where(df_income.iloc[:,10].isnull(), '2001-3000')\n",
    "df_income.iloc[:,11] = df_income.iloc[:,11].where(df_income.iloc[:,11].isnull(), '3001-4000')\n",
    "df_income.iloc[:,12] = df_income.iloc[:,12].where(df_income.iloc[:,12].isnull(), '4001-5000')\n",
    "df_income.iloc[:,13] = df_income.iloc[:,13].where(df_income.iloc[:,13].isnull(), '5001-6000')\n",
    "df_income.iloc[:,14] = df_income.iloc[:,14].where(df_income.iloc[:,14].isnull(), 'ovr6000')\n",
    "df_income.iloc[:,15] = df_income.iloc[:,15].where(df_income.iloc[:,15].isnull(), 'refuse answ')"
   ]
  },
  {
   "cell_type": "code",
   "execution_count": null,
   "metadata": {},
   "outputs": [],
   "source": [
    "# Creating separate dataframes\n",
    "\n",
    "# Current income \n",
    "df_income_curr = pd.DataFrame(df_income.loc[:,'What is your current or previous monthly net salary - up to 1000 EUR':'What is your current or previous monthly net salary - refuse to answer']\\\n",
    "                            .bfill(axis=1).iloc[:, 0])\n",
    "df_income_curr.columns = ['Current Income']\n",
    "\n",
    "# Expected income\n",
    "df_income_exp = pd.DataFrame(df_income.loc[:,'How much would you like to get monthly - up to 1000 EUR':'How much would you like to get monthly - refuse to answer']\\\n",
    "                            .bfill(axis=1).iloc[:, 0])\n",
    "df_income_exp.columns = ['Expected Income']"
   ]
  },
  {
   "cell_type": "code",
   "execution_count": null,
   "metadata": {},
   "outputs": [],
   "source": [
    "# Mergind above columns together\n",
    "df_income_ = pd.concat([df_income_curr, df_income_exp], axis=1)"
   ]
  },
  {
   "cell_type": "code",
   "execution_count": null,
   "metadata": {},
   "outputs": [],
   "source": [
    "# Creating dataframe with only valid income-related answers, and then merging all columns into two\n",
    "df_adult = pd.concat([df[df.index.isin(df_income_.index)], df_income_curr, df_income_exp], axis=1)\n",
    "df_adult.head(1)"
   ]
  },
  {
   "cell_type": "code",
   "execution_count": null,
   "metadata": {},
   "outputs": [],
   "source": [
    "# Dropping useless columns\n",
    "cols = list(df_adult.loc[:,'What is your current or previous monthly net salary - up to 1000 EUR':'How much would you like to get monthly - refuse to answer'].columns)\n",
    "df_adult.drop(cols, axis=1, inplace=True)\n",
    "df_adult.head(1)"
   ]
  },
  {
   "cell_type": "code",
   "execution_count": null,
   "metadata": {},
   "outputs": [],
   "source": [
    "# Helper function\n",
    "\n",
    "def income_split_plot(split_column):\n",
    "    \n",
    "    order = ['up1000', '1001-1500', '2001-3000','3001-4000','4001-5000','5001-6000','ovr6000','refuse answ']\n",
    "    plt.figure(figsize=(20, 6))\n",
    "    sns.countplot(y='Current Income', hue=split_column, data=df_adult, order=order, palette='Set2')\n",
    "    plt.show()\n",
    "    plt.figure(figsize=(20, 6))\n",
    "    sns.countplot(y='Expected Income', hue=split_column, data=df_adult, order=order, palette='Set2')\n",
    "    plt.show()"
   ]
  },
  {
   "cell_type": "code",
   "execution_count": null,
   "metadata": {},
   "outputs": [],
   "source": [
    "# Ploting data of interest\n",
    "# The same can be done with different split method, eg. age or city size\n",
    "\n",
    "income_split_plot('D1# City size')"
   ]
  },
  {
   "cell_type": "code",
   "execution_count": null,
   "metadata": {},
   "outputs": [],
   "source": [
    "income_split_plot('D2# Gender')"
   ]
  },
  {
   "cell_type": "code",
   "execution_count": null,
   "metadata": {},
   "outputs": [],
   "source": [
    "income_split_plot('D3# Age')"
   ]
  },
  {
   "cell_type": "code",
   "execution_count": null,
   "metadata": {},
   "outputs": [],
   "source": [
    "income_split_plot('D4# Education')"
   ]
  },
  {
   "cell_type": "code",
   "execution_count": null,
   "metadata": {},
   "outputs": [],
   "source": [
    "income_split_plot('Q13-C22 - Do you work currently? - Answer')"
   ]
  },
  {
   "cell_type": "code",
   "execution_count": null,
   "metadata": {},
   "outputs": [],
   "source": [
    "income_split_plot('Are you keen on moving closer to your work place?')"
   ]
  },
  {
   "cell_type": "markdown",
   "metadata": {},
   "source": [
    "# What is the correlation between the desire to earn more and the possibility to commute longer (further away from home)."
   ]
  },
  {
   "cell_type": "markdown",
   "metadata": {},
   "source": [
    "<br><br>\n",
    "**Conclusions:**\n",
    "<br>\n",
    "It seems that with lower income expectations (up to 1500 EUR) the respondents would commute rather on closer distances (up to 5 km, but also slightly further like up to 10 km, but definetly not over 50 km). With the growing expectations (2000-3000 EUR) there is small tendency to commute little bit further (5-10 km or even up to 20 km). With even higher expectations (3000-4000 EUR) there is a little bit raise in a willingness to commute up to 50 km. After the income expectations reach 4000-5000 EUR the responders tend to commute rather either 10-20 or 20-50 km than less or more of that distance. For the expecting 5000-6000 EUR it nearly doesn't matter the distance to commute, and if expectations raise above that threshold it's become clear not to commute further than 50 km with the 10-20 km range in favour.\n",
    "\n",
    "**Summarizing, with an increase in income expectations, the desire for further commuting also increases, but only up to a very high threshold when the distance becomes irrelevant. After that threshold it becomes very important not to commute on very far distances similarly as with the lowest income expectations**\n",
    "<br><br>\n",
    "**Note**:\n",
    "When we split responders by gender we see that they mostly differ in expected income distribution but commuting patterns remain almost the same with tendency for men to commute further, even over 100 km when expecting middle level income and above.\n",
    "<br><br>\n",
    "Further analysis can be made taking into account city size, age and so on.\n",
    "<br><br><br>"
   ]
  },
  {
   "cell_type": "code",
   "execution_count": null,
   "metadata": {},
   "outputs": [],
   "source": [
    "# Checking no- and multi-answered observations and getting rid of them\n",
    "live_double_answers_check = df_adult.loc[:,'How far do you live from current or previous work - less than 5 km':'How far do you live from current or previous work - more than 100 km']\n",
    "commute_double_answers_check = df_adult.loc[:,'How far are you able to commute - less than 5 km':'How far are you able to commute - more than 100 km']"
   ]
  },
  {
   "cell_type": "code",
   "execution_count": null,
   "metadata": {},
   "outputs": [],
   "source": [
    "# Living distance from current work\n",
    "valid_answers_plot(live_double_answers_check, 'Living distance from current work')\n",
    "print('Sample invalid data')\n",
    "live_double_answers_check[live_double_answers_check.notnull().sum(axis=1) != 1].head(2)"
   ]
  },
  {
   "cell_type": "code",
   "execution_count": null,
   "metadata": {},
   "outputs": [],
   "source": [
    "# Distance of willingness to commute to work\n",
    "valid_answers_plot(commute_double_answers_check, 'Willingness to commute distance')\n",
    "print('Sample invalid data')\n",
    "commute_double_answers_check[commute_double_answers_check.notnull().sum(axis=1) != 1].head(2)"
   ]
  },
  {
   "cell_type": "code",
   "execution_count": null,
   "metadata": {},
   "outputs": [],
   "source": [
    "# Selecting columns with one answer only\n",
    "df_commute_ = commute_double_answers_check[commute_double_answers_check.notnull().sum(axis=1) == 1]\n",
    "df_live_ = live_double_answers_check[live_double_answers_check.notnull().sum(axis=1) == 1]"
   ]
  },
  {
   "cell_type": "code",
   "execution_count": null,
   "metadata": {},
   "outputs": [],
   "source": [
    "# Replacing values to some meaningfull ones in current income columns\n",
    "df_live_.iloc[:,0] = df_live_.iloc[:,0].where(df_live_.iloc[:,0].isnull(), 'less 5')\n",
    "df_live_.iloc[:,1] = df_live_.iloc[:,1].where(df_live_.iloc[:,1].isnull(), '5-10')\n",
    "df_live_.iloc[:,2] = df_live_.iloc[:,2].where(df_live_.iloc[:,2].isnull(), '11-20')\n",
    "df_live_.iloc[:,3] = df_live_.iloc[:,3].where(df_live_.iloc[:,3].isnull(), '21-50')\n",
    "df_live_.iloc[:,4] = df_live_.iloc[:,4].where(df_live_.iloc[:,4].isnull(), '51-100')\n",
    "df_live_.iloc[:,5] = df_live_.iloc[:,5].where(df_live_.iloc[:,5].isnull(), 'over 100')\n",
    "\n",
    "# Replacing values to some meaningfull ones in expected income columns\n",
    "df_commute_.iloc[:,0] = df_commute_.iloc[:,0].where(df_commute_.iloc[:,0].isnull(), 'less 5')\n",
    "df_commute_.iloc[:,1] = df_commute_.iloc[:,1].where(df_commute_.iloc[:,1].isnull(), '5-10')\n",
    "df_commute_.iloc[:,2] = df_commute_.iloc[:,2].where(df_commute_.iloc[:,2].isnull(), '11-20')\n",
    "df_commute_.iloc[:,3] = df_commute_.iloc[:,3].where(df_commute_.iloc[:,3].isnull(), '21-50')\n",
    "df_commute_.iloc[:,4] = df_commute_.iloc[:,4].where(df_commute_.iloc[:,4].isnull(), '51-100')\n",
    "df_commute_.iloc[:,5] = df_commute_.iloc[:,5].where(df_commute_.iloc[:,5].isnull(), 'over 100')"
   ]
  },
  {
   "cell_type": "code",
   "execution_count": null,
   "metadata": {},
   "outputs": [],
   "source": [
    "# Creating separate dataframes\n",
    "\n",
    "# Current income \n",
    "df_live_ = pd.DataFrame(df_live_.loc[:,df_live_.columns[0]:df_live_.columns[5]].bfill(axis=1).iloc[:, 0])\n",
    "df_live_.columns = ['Living distance']\n",
    "\n",
    "# Expected income\n",
    "df_commute_ = pd.DataFrame(df_commute_.loc[:,df_commute_.columns[0]:df_commute_.columns[5]].bfill(axis=1).iloc[:, 0])\n",
    "df_commute_.columns = ['Able to commute']"
   ]
  },
  {
   "cell_type": "code",
   "execution_count": null,
   "metadata": {},
   "outputs": [],
   "source": [
    "# Putting together commute-related \n",
    "\n",
    "df_living_commute = pd.concat([df_live_, df_commute_], axis=1)\n",
    "df_living_commute = df_living_commute.dropna()\n",
    "df_living_commute.head()"
   ]
  },
  {
   "cell_type": "code",
   "execution_count": null,
   "metadata": {},
   "outputs": [],
   "source": [
    "df_adult.shape, df_living_commute.shape"
   ]
  },
  {
   "cell_type": "code",
   "execution_count": null,
   "metadata": {},
   "outputs": [],
   "source": [
    "df_adult[df_adult.index.isin(df_living_commute.index)].shape"
   ]
  },
  {
   "cell_type": "code",
   "execution_count": null,
   "metadata": {},
   "outputs": [],
   "source": [
    "# Creating dataframe with only valid income-related answers, and then merging all columns into two\n",
    "df_adult_all = pd.concat([df_adult[df_adult.index.isin(df_living_commute.index)], df_living_commute], axis=1)\n",
    "df_adult_all.head(1)"
   ]
  },
  {
   "cell_type": "code",
   "execution_count": null,
   "metadata": {},
   "outputs": [],
   "source": [
    "# Dropping useless columns\n",
    "cols = list(df_adult_all.loc[:,'How far do you live from current or previous work - less than 5 km':'How far are you able to commute - more than 100 km'].columns)\n",
    "df_adult_all.drop(cols, axis=1, inplace=True)\n",
    "df_adult_all.head(1)"
   ]
  },
  {
   "cell_type": "markdown",
   "metadata": {},
   "source": [
    "**Plotting result for conclusions**"
   ]
  },
  {
   "cell_type": "code",
   "execution_count": null,
   "metadata": {},
   "outputs": [],
   "source": [
    "# Ploting results\n",
    "order = ['up1000', '1001-1500', '2001-3000','3001-4000','4001-5000','5001-6000','ovr6000','refuse answ']\n",
    "# order = ['less 5','5-10','11-20','21-50','51-100','over 100']\n",
    "plt.figure(figsize=(20, 10))\n",
    "sns.countplot(y='Expected Income', hue='Able to commute', data=df_adult_all, order=order, palette='Set2')\n",
    "plt.show()"
   ]
  },
  {
   "cell_type": "markdown",
   "metadata": {},
   "source": [
    "It seems that with lower income expectations (up to 1500 EUR) the respondents would commute rather on closer distances (up to 5 km, but also slightly further like up to 10 km, but definetly not over 50 km). With the growing expectations (2000-3000 EUR) there is small tendency to commute little bit further (5-10 km or even up to 20 km). With even higher expectations (3000-4000 EUR) there is a little bit raise in a willingness to commute up to 50 km. After the income expectations reach 4000-5000 EUR the responders tend to commute rather either 10-20 or 20-50 km than less or more of that distance. For the expecting 5000-6000 EUR it nearly doesn't matter the distance to commute, and if expectations raise above that threshold it's become clear not to commute further than 50 km with the 10-20 km range in favour."
   ]
  },
  {
   "cell_type": "markdown",
   "metadata": {},
   "source": [
    "**Looking at the gender split**"
   ]
  },
  {
   "cell_type": "code",
   "execution_count": null,
   "metadata": {},
   "outputs": [],
   "source": [
    "df_adult_all['D2# Gender'].value_counts()"
   ]
  },
  {
   "cell_type": "code",
   "execution_count": null,
   "metadata": {},
   "outputs": [],
   "source": [
    "# Helper function\n",
    "\n",
    "def income_commute_plot(splitting_column):    \n",
    "    order = ['up1000', '1001-1500', '2001-3000','3001-4000','4001-5000','5001-6000','ovr6000','refuse answ']\n",
    "    sns.catplot(y=\"Expected Income\", hue=\"Able to commute\", col=splitting_column,\n",
    "                    data=df_adult_all, kind=\"count\", order=order,\n",
    "                    height=7, aspect=1, palette='Set2')\n",
    "    plt.show()"
   ]
  },
  {
   "cell_type": "code",
   "execution_count": null,
   "metadata": {},
   "outputs": [],
   "source": [
    "income_commute_plot('D2# Gender')"
   ]
  },
  {
   "cell_type": "markdown",
   "metadata": {},
   "source": [
    "When we split responders by gender we see that they mostly differ in expected income distribution but commuting patterns remain almost the same with tendency for men to commute further, even over 100 km when expecting middle level income and above."
   ]
  },
  {
   "cell_type": "markdown",
   "metadata": {},
   "source": [
    "Further analysis can be made taking into account city size, age and so on."
   ]
  },
  {
   "cell_type": "code",
   "execution_count": null,
   "metadata": {},
   "outputs": [],
   "source": [
    "income_commute_plot('D1# City size')"
   ]
  },
  {
   "cell_type": "code",
   "execution_count": null,
   "metadata": {},
   "outputs": [],
   "source": [
    "income_commute_plot('D3# Age')"
   ]
  },
  {
   "cell_type": "markdown",
   "metadata": {},
   "source": [
    " "
   ]
  },
  {
   "cell_type": "markdown",
   "metadata": {},
   "source": [
    " "
   ]
  },
  {
   "cell_type": "markdown",
   "metadata": {},
   "source": [
    "# What is the key factor that determines the tendency to move closer to the work place (what is the most relevant factor influencing the will to move home closer work)?"
   ]
  },
  {
   "cell_type": "markdown",
   "metadata": {},
   "source": [
    "<br><br><br>\n",
    "**Conclusion:**\n",
    "\n",
    "Two approaches - feature importance search and statistical tests - were used to spot the key factor that determines the tendency to move closer to the work place. The first approach was conducted on one-hot encoded dataset, and statistical tests were conducted on both rank-mapped and one-hot encoded datasets.\n",
    "\n",
    "Using tree-based algorithm (RandomForest) resulted in selecting Top5 features in order of importance:\n",
    "* Current income  up tp 1000 EUR\n",
    "* Less than 5km living distance from work place\n",
    "* Secondary grade education\n",
    "* Age 18-24 years\n",
    "* Able to commute between 5-10 km\n",
    "\n",
    "However at this point the model is not stable and can not point exacly one, most important feature. Further analysis or approach change is needed if time allows.\n",
    "\n",
    "Both Spearman's rank (for rank-mapped dataset) Pearson's (for one-hot encoded dataset) correlation tests together with Kruskal-Wallis test were used as statistical approach.\n",
    "\n",
    "Resulted feature importances:\n",
    "* Spearman's test - \"Expected Income\" and \"Age\"/\"Able to commute\"\n",
    "* Pearson's test - \"Able to commute over 100km\"* and \"Expected Income up to 1000 EUR\"/\"Expected Income 1001-1500 EUR\"\n",
    "* Kruskal-Wallis test - further analysis needed\n",
    "\n",
    "There's also need for further statistical approach verification.\n",
    "\n",
    "*seems to be not very intuitive\n",
    "\n",
    "<br><br><br><br>"
   ]
  },
  {
   "cell_type": "code",
   "execution_count": null,
   "metadata": {},
   "outputs": [],
   "source": [
    "df_closer_work = df_adult_all[df_adult_all['Are you keen on moving closer to your work place?'] == 'yes']\n",
    "df_closer_work.head()"
   ]
  },
  {
   "cell_type": "markdown",
   "metadata": {},
   "source": [
    "<br><br><br>\n",
    "**Looking at the typical person keen to moving closer to the work place**"
   ]
  },
  {
   "cell_type": "code",
   "execution_count": null,
   "metadata": {},
   "outputs": [],
   "source": [
    "df_closer_work.describe(exclude='number').T"
   ]
  },
  {
   "cell_type": "code",
   "execution_count": null,
   "metadata": {},
   "outputs": [],
   "source": [
    "#     order = ['up1000', '1001-1500', '2001-3000','3001-4000','4001-5000','5001-6000','ovr6000','refuse answ']\n",
    "sns.catplot(y='Able to commute', hue='D2# Gender', col='Are you keen on moving closer to your work place?',\n",
    "                data=df_adult_all, kind=\"count\",\n",
    "                height=7, aspect=1, palette='Set2')\n",
    "plt.show()"
   ]
  },
  {
   "cell_type": "markdown",
   "metadata": {},
   "source": [
    "<br><br><br>\n",
    "**Differences between groups that are and are not keen to move closer to work place**"
   ]
  },
  {
   "cell_type": "code",
   "execution_count": null,
   "metadata": {
    "scrolled": false
   },
   "outputs": [],
   "source": [
    "df_adult_all.groupby('Are you keen on moving closer to your work place?').describe(exclude='number').T"
   ]
  },
  {
   "cell_type": "code",
   "execution_count": null,
   "metadata": {},
   "outputs": [],
   "source": [
    "# pd.crosstab(df_adult_all['Able to commute'], df_adult_all['Are you keen on moving closer to your work place?'],\n",
    "#            normalize=False, margins=True)"
   ]
  },
  {
   "cell_type": "markdown",
   "metadata": {},
   "source": [
    "### Trying with feature importance search"
   ]
  },
  {
   "cell_type": "code",
   "execution_count": null,
   "metadata": {},
   "outputs": [],
   "source": [
    "df_adult_all.head(2)"
   ]
  },
  {
   "cell_type": "code",
   "execution_count": null,
   "metadata": {},
   "outputs": [],
   "source": [
    "# Copy for rank remapping\n",
    "df_adult_all_num = df_adult_all.copy()\n",
    "\n",
    "# Copy for feature importance check with classification approach\n",
    "df_adult_all_onehot = df_adult_all.copy()"
   ]
  },
  {
   "cell_type": "markdown",
   "metadata": {},
   "source": [
    "**One-hot encoding for feature importance search**"
   ]
  },
  {
   "cell_type": "code",
   "execution_count": null,
   "metadata": {},
   "outputs": [],
   "source": [
    "df_adult_all_onehot['Are you keen on moving closer to your work place?'] = df_adult_all_onehot['Are you keen on moving closer to your work place?'].map({'yes':1, 'no':0})"
   ]
  },
  {
   "cell_type": "markdown",
   "metadata": {},
   "source": [
    "**Remapping ordinal features into ranks**"
   ]
  },
  {
   "cell_type": "code",
   "execution_count": null,
   "metadata": {},
   "outputs": [],
   "source": [
    "df_adult_all_num['Are you keen on moving closer to your work place?'] = df_adult_all_num['Are you keen on moving closer to your work place?'].map({'yes':1, 'no':0})\n",
    "\n",
    "df_adult_all_num['Are you looking for a job?'] = df_adult_all_num['Are you looking for a job?'].map({'yes':1, 'no':0})\n",
    "df_adult_all_num['Q13-C22 - Do you work currently? - Answer'] = df_adult_all_num['Q13-C22 - Do you work currently? - Answer'].map({'yes':1, 'no':0})\n",
    "df_adult_all_num['Have you ever worked before?'] = df_adult_all_num['Have you ever worked before?'].map({'yes':1, np.NaN:0})\n",
    "df_adult_all_num['D2# Gender'] = df_adult_all_num['D2# Gender'].map({'male':1, 'female':0})\n",
    "df_adult_all_num['D1# City size'] = df_adult_all_num['D1# City size'].map({\n",
    "    'village':1,\n",
    "    'city up to 20k inhabitants':2,\n",
    "    '20k - 49k inhabitants':3,\n",
    "    '50k - 99k inhabitants':4,\n",
    "    '100k - 199k inhabitants':5,\n",
    "    '200k - 500k inhabitants':6,\n",
    "    'more than 500k inhabitants':7\n",
    "})\n",
    "df_adult_all_num['D3# Age'] = df_adult_all_num['D3# Age'].map({\n",
    "    'less than 18 years':1,\n",
    "    '18 - 24 years':2,\n",
    "    '25 - 30 years':3,\n",
    "    '31 - 40 years':4,\n",
    "    '41 - 50 years':5,\n",
    "    'more than 50 years':6\n",
    "})\n",
    "df_adult_all_num['D4# Education'] = df_adult_all_num['D4# Education'].map({\n",
    "    'basic':1,\n",
    "    'vocational':2,\n",
    "    'secondary':3,\n",
    "    'higher':4\n",
    "})\n",
    "df_adult_all_num['Current Income'] = df_adult_all_num['Current Income'].map({\n",
    "    'refuse answ':1,\n",
    "    'up1000':2,\n",
    "    '1001-1500':3,\n",
    "    '2001-3000':4,\n",
    "    '3001-4000':5,\n",
    "    '4001-5000':6,\n",
    "    '5001-6000':7,\n",
    "    'ovr6000':8\n",
    "})\n",
    "df_adult_all_num['Expected Income'] = df_adult_all_num['Expected Income'].map({\n",
    "    'refuse answ':1,\n",
    "    'up1000':2,\n",
    "    '1001-1500':3,\n",
    "    '2001-3000':4,\n",
    "    '3001-4000':5,\n",
    "    '4001-5000':6,\n",
    "    '5001-6000':7,\n",
    "    'ovr6000':8\n",
    "})\n",
    "df_adult_all_num['Living distance'] = df_adult_all_num['Living distance'].map({\n",
    "    'less 5':1,\n",
    "    '5-10':2,\n",
    "    '11-20':3,\n",
    "    '21-50':4,\n",
    "    '51-100':5,\n",
    "    'over 100':6\n",
    "})\n",
    "df_adult_all_num['Able to commute'] = df_adult_all_num['Able to commute'].map({\n",
    "    'less 5':1,\n",
    "    '5-10':2,\n",
    "    '11-20':3,\n",
    "    '21-50':4,\n",
    "    '51-100':5,\n",
    "    'over 100':6\n",
    "})"
   ]
  },
  {
   "cell_type": "code",
   "execution_count": null,
   "metadata": {},
   "outputs": [],
   "source": [
    "df_adult_all_num.head(2)"
   ]
  },
  {
   "cell_type": "markdown",
   "metadata": {},
   "source": [
    "### Feature importance search with classification approach"
   ]
  },
  {
   "cell_type": "code",
   "execution_count": null,
   "metadata": {},
   "outputs": [],
   "source": [
    "# Selecting categorical data \n",
    "data_categorical = df_adult_all_onehot.select_dtypes(exclude = ['number'])\n",
    "data_categorical.head()"
   ]
  },
  {
   "cell_type": "code",
   "execution_count": null,
   "metadata": {},
   "outputs": [],
   "source": [
    "df_adult_all_feature = pd.concat([df_adult_all_onehot['Are you keen on moving closer to your work place?'], \n",
    "                                  pd.get_dummies(data_categorical)], axis=1)"
   ]
  },
  {
   "cell_type": "code",
   "execution_count": null,
   "metadata": {},
   "outputs": [],
   "source": [
    "df_adult_all_feature.head()"
   ]
  },
  {
   "cell_type": "code",
   "execution_count": null,
   "metadata": {},
   "outputs": [],
   "source": [
    "data_train, data_test = train_test_split(df_adult_all_feature, test_size=0.3, shuffle=False)"
   ]
  },
  {
   "cell_type": "code",
   "execution_count": null,
   "metadata": {},
   "outputs": [],
   "source": [
    "y_train = data_train.pop('Are you keen on moving closer to your work place?')\n",
    "y_test = data_test.pop('Are you keen on moving closer to your work place?')"
   ]
  },
  {
   "cell_type": "code",
   "execution_count": null,
   "metadata": {
    "scrolled": false
   },
   "outputs": [],
   "source": [
    "# Building model\n",
    "forest = RandomForestClassifier(n_estimators=500,\n",
    "                                random_state=42,\n",
    "                                class_weight='balanced',\n",
    "                                n_jobs=-1)\n",
    "\n",
    "forest.fit(data_train, y_train)\n",
    "importances = np.mean([tree.feature_importances_ for tree in forest.estimators_], axis=0)\n",
    "stds = np.std([tree.feature_importances_ for tree in forest.estimators_], axis=0)\n",
    "inds = np.argsort(importances)[::-1]\n",
    "\n",
    "# Plot the feature importances\n",
    "plt.figure(figsize=(12,6))\n",
    "plt.title(\"Feature importances\")\n",
    "plt.bar(range(data_train.shape[1]), importances[inds],\n",
    "       color=\"orange\", yerr=stds[inds], align=\"center\")\n",
    "plt.xticks(range(data_train.shape[1]), data_train.columns[inds], rotation='vertical')\n",
    "plt.xlim([-1, data_train.shape[1]])\n",
    "plt.show()"
   ]
  },
  {
   "cell_type": "code",
   "execution_count": null,
   "metadata": {},
   "outputs": [],
   "source": [
    "print(classification_report(y_test, forest.predict(data_test)))"
   ]
  },
  {
   "cell_type": "markdown",
   "metadata": {},
   "source": [
    "### Trying with some statistical tests"
   ]
  },
  {
   "cell_type": "markdown",
   "metadata": {},
   "source": [
    "**Spearman's correlation**"
   ]
  },
  {
   "cell_type": "code",
   "execution_count": null,
   "metadata": {},
   "outputs": [],
   "source": [
    "# Overall correlation\n",
    "\n",
    "for col in df_adult_all_num.columns:\n",
    "    if stats.spearmanr(df_adult_all_num['Are you keen on moving closer to your work place?'],\n",
    "                      df_adult_all_num[col])[1] <= 0.05:\n",
    "        print(stats.spearmanr(df_adult_all_num['Are you keen on moving closer to your work place?'],\n",
    "                                                                       df_adult_all_num[col])[0],\n",
    "             '  --- Spearman coeff. for', col)"
   ]
  },
  {
   "cell_type": "markdown",
   "metadata": {},
   "source": [
    "**Pearson's correlation**"
   ]
  },
  {
   "cell_type": "code",
   "execution_count": null,
   "metadata": {},
   "outputs": [],
   "source": [
    "# Specific features correlation\n",
    "\n",
    "for col in df_adult_all_feature.columns:\n",
    "    if stats.pearsonr(df_adult_all_feature['Are you keen on moving closer to your work place?'],\n",
    "                      df_adult_all_feature[col])[1] <= 0.05:\n",
    "        print(stats.pearsonr(df_adult_all_feature['Are you keen on moving closer to your work place?'],\n",
    "                                                                       df_adult_all_feature[col])[0],\n",
    "             '  --- Pearsons coeff. for', col)"
   ]
  },
  {
   "cell_type": "markdown",
   "metadata": {},
   "source": [
    "**Kruskal - Wallis test**"
   ]
  },
  {
   "cell_type": "code",
   "execution_count": null,
   "metadata": {},
   "outputs": [],
   "source": [
    "stats.kruskal(df_adult_all_num['Are you looking for a job?'],                      \n",
    "df_adult_all_num['Q13-C22 - Do you work currently? - Answer'],         \n",
    "df_adult_all_num['Have you ever worked before?'],                         \n",
    "df_adult_all_num['Are you keen on moving closer to your work place?'],   \n",
    "df_adult_all_num['D1# City size'],                                       \n",
    "df_adult_all_num['D2# Gender'],                                           \n",
    "df_adult_all_num['D3# Age'],                                             \n",
    "df_adult_all_num['D4# Education'],                                       \n",
    "df_adult_all_num['Current Income'],                                     \n",
    "df_adult_all_num['Expected Income'],                                    \n",
    "df_adult_all_num['Living distance'],                                     \n",
    "df_adult_all_num['Able to commute'])              "
   ]
  },
  {
   "cell_type": "code",
   "execution_count": null,
   "metadata": {},
   "outputs": [],
   "source": [
    "for col in df_adult_all_num.columns:\n",
    "    print(stats.kruskal(df_adult_all_num['Are you keen on moving closer to your work place?'],\n",
    "                  df_adult_all_num[col]), '----      ', col)"
   ]
  },
  {
   "cell_type": "code",
   "execution_count": null,
   "metadata": {},
   "outputs": [],
   "source": []
  }
 ],
 "metadata": {
  "hide_input": false,
  "kernelspec": {
   "display_name": "Python 3",
   "language": "python",
   "name": "python3"
  },
  "language_info": {
   "codemirror_mode": {
    "name": "ipython",
    "version": 3
   },
   "file_extension": ".py",
   "mimetype": "text/x-python",
   "name": "python",
   "nbconvert_exporter": "python",
   "pygments_lexer": "ipython3",
   "version": "3.6.6"
  },
  "toc": {
   "base_numbering": 1,
   "nav_menu": {},
   "number_sections": true,
   "sideBar": true,
   "skip_h1_title": false,
   "title_cell": "Table of Contents",
   "title_sidebar": "Contents",
   "toc_cell": false,
   "toc_position": {},
   "toc_section_display": true,
   "toc_window_display": false
  }
 },
 "nbformat": 4,
 "nbformat_minor": 2
}
